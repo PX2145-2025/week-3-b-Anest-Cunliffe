{
  "cells": [
    {
      "cell_type": "markdown",
      "metadata": {
        "id": "2frNZNgX-Q5W"
      },
      "source": [
        "# Feedback from previous weeks and other and hints\n",
        "\n",
        "1. Be careful about your environment remembering variables. Make sure your code works in a new _clean_ environment. In Colab: `Runtime`->`restart Runtime`, in Anaconda's Jupyter: `Kernel`->`Restart`.\n",
        "2. Graphs without labels (or units when appropriate) are not worth any point.\n",
        "3. Do put in sufficient explanatory comments in your code.\n",
        "4. Functions are very important. Do look up the video on the Safari O'Reilly ressource if you are still not clear on them !\n",
        "\n",
        "For this week you can use these imports at the start of your programs:"
      ]
    },
    {
      "cell_type": "code",
      "execution_count": null,
      "metadata": {
        "id": "Zj5Ui6qv-Q5X"
      },
      "outputs": [],
      "source": [
        "import numpy as np\n",
        "import matplotlib.pyplot as plt"
      ]
    },
    {
      "cell_type": "markdown",
      "metadata": {
        "id": "f9i_WvRr-Q5X"
      },
      "source": [
        "We will use a new module `uncertainties`, which is **not** standard in the colab environment. You will have to first run:"
      ]
    },
    {
      "cell_type": "code",
      "execution_count": null,
      "metadata": {
        "id": "uNG3CFao-Q5X"
      },
      "outputs": [],
      "source": [
        "! pip install -q uncertainties"
      ]
    },
    {
      "cell_type": "markdown",
      "metadata": {
        "id": "BywAqGmr-Q5X"
      },
      "source": [
        "To install the module before you can import it:"
      ]
    },
    {
      "cell_type": "code",
      "execution_count": null,
      "metadata": {
        "id": "a-LEK2Bl-Q5X"
      },
      "outputs": [],
      "source": [
        "import uncertainties as uc\n",
        "import uncertainties.umath as um # for maths functions"
      ]
    },
    {
      "cell_type": "markdown",
      "metadata": {
        "id": "WJGq0e6r-Q5X"
      },
      "source": [
        "# Introduction\n",
        "In the practical classes PX2133/PX2233 and PX2338 (Obs tech), as well as your year 3/4 project, a lot of emphasis is placed on the determination and mathematical handling of errors.\n",
        "The uncertainties module allows us to deal very easily with [error propagation](https://en.wikipedia.org/wiki/Propagation_of_uncertainty). For this sheet you should remind yourself about error bars in measurements and about propagation of uncertainties. Take an example from your lab handbook:\n",
        "\n",
        "**Example 1**: If the length of a rectangle is $1.24\\pm0.02 m$ and its breadth is $0.61\\pm0.01 m$, what is its area and the error in the area? The following code snippet solves this problem in a few lines."
      ]
    },
    {
      "cell_type": "code",
      "execution_count": null,
      "metadata": {
        "id": "5eWh4bh1-Q5X",
        "outputId": "47d3d45c-5ef5-48bf-f7ff-0a7d164b3fa0",
        "colab": {
          "base_uri": "https://localhost:8080/"
        }
      },
      "outputs": [
        {
          "output_type": "stream",
          "name": "stdout",
          "text": [
            "Area is: 0.756+/-0.017 m^2\n"
          ]
        }
      ],
      "source": [
        "L = uc.ufloat(1.24, 0.02)\n",
        "W = uc.ufloat(0.61, 0.01)\n",
        "print ('Area is:', L*W, 'm^2') # Do remember to add the units when printing!"
      ]
    },
    {
      "cell_type": "markdown",
      "metadata": {
        "id": "ZFIV62fh-Q5Y"
      },
      "source": [
        "**Note**: For the area itself, it's fairly straightforward:"
      ]
    },
    {
      "cell_type": "code",
      "execution_count": null,
      "metadata": {
        "id": "UUXYQAoX-Q5Y",
        "outputId": "cf4c3777-9f4c-488c-bdd1-47e20489a5e2",
        "colab": {
          "base_uri": "https://localhost:8080/"
        }
      },
      "outputs": [
        {
          "output_type": "execute_result",
          "data": {
            "text/plain": [
              "0.7564"
            ]
          },
          "metadata": {},
          "execution_count": 5
        }
      ],
      "source": [
        "1.24*0.61"
      ]
    },
    {
      "cell_type": "markdown",
      "metadata": {
        "id": "6uQO0Q7_-Q5Y"
      },
      "source": [
        "However, for the error bar on this number:"
      ]
    },
    {
      "cell_type": "code",
      "execution_count": null,
      "metadata": {
        "id": "TroWPkET-Q5Y",
        "outputId": "579bd294-eba0-42ce-cc09-d12c2cf72988",
        "colab": {
          "base_uri": "https://localhost:8080/"
        }
      },
      "outputs": [
        {
          "output_type": "execute_result",
          "data": {
            "text/plain": [
              "0.0002"
            ]
          },
          "metadata": {},
          "execution_count": 6
        }
      ],
      "source": [
        "0.02*0.01"
      ]
    },
    {
      "cell_type": "markdown",
      "metadata": {
        "id": "nAK--xHh-Q5Y"
      },
      "source": [
        "does not work. Instead, the [error progation formula](https://en.wikipedia.org/wiki/Propagation_of_uncertainty#Example_formulae) gives:"
      ]
    },
    {
      "cell_type": "code",
      "execution_count": null,
      "metadata": {
        "id": "kGUErvJA-Q5Y",
        "outputId": "97e5f230-4a8d-46b0-ee20-3c9762154e2a",
        "colab": {
          "base_uri": "https://localhost:8080/"
        }
      },
      "outputs": [
        {
          "output_type": "execute_result",
          "data": {
            "text/plain": [
              "np.float64(0.01739540169125163)"
            ]
          },
          "metadata": {},
          "execution_count": 7
        }
      ],
      "source": [
        "np.abs(1.24*0.61)*np.sqrt((0.02/1.24)**2+(0.01/0.61)**2)"
      ]
    },
    {
      "cell_type": "markdown",
      "metadata": {
        "id": "yAcS0SwA-Q5Y"
      },
      "source": [
        "So the area is $0.756\\pm0.017 m^2$. `uncertainties` obviously saves a lot of work, even for such a simple case. You can also take a look at the web site uncertainties hosted at https://pythonhosted.org/uncertainties/user_guide.html. In particular, [this section](https://pythonhosted.org/uncertainties/user_guide.html#access-to-the-uncertainty-and-to-the-nominal-value) shows some of the properties of a `ufloat` you can access directly.\n",
        "\n",
        "**Example 2**: A reference object is $10.0\\pm0.0001 m$ long, and makes a viewing angle of $0.62\\pm0.02 rad$. How far is it?"
      ]
    },
    {
      "cell_type": "code",
      "execution_count": null,
      "metadata": {
        "id": "iHgoqpX6-Q5Y",
        "outputId": "9e61ee1f-3bf6-4c7c-c814-a37120ffc3bd",
        "colab": {
          "base_uri": "https://localhost:8080/"
        }
      },
      "outputs": [
        {
          "output_type": "stream",
          "name": "stdout",
          "text": [
            "Distance is: 15.609024890896208 m, with an error of: 0.537283338762715\n"
          ]
        }
      ],
      "source": [
        "L = uc.ufloat(10.0, 0.0001)\n",
        "theta = uc.ufloat(0.62,0.02)\n",
        "\n",
        "Distance = (L/2)/um.tan(theta/2)\n",
        "\n",
        "print ('Distance is:', Distance.nominal_value, 'm, with an error of:', Distance.std_dev)"
      ]
    },
    {
      "cell_type": "markdown",
      "metadata": {
        "id": "LmJyUtrB-Q5Y"
      },
      "source": [
        "Note the need to use \"umath\" functions (like `um.tan()` instead of `np.tan()`), and how to get the nominal value and the standard deviation of the uncertainties objects. To get nicer looking output, such as controlling the number of significant digits printed, you can use the information about formatting at https://docs.python.org/3/tutorial/inputoutput.html. In the exercises below you need to print the values to the screen. (Don’t forget units.)"
      ]
    },
    {
      "cell_type": "markdown",
      "metadata": {
        "id": "F3p7mfRD-Q5Z"
      },
      "source": [
        "# Exercises\n",
        "This must be marked before you leave the lab. Mark weighting is in brackets.\n",
        "**Save your work to GitHub after having run all cells with `Runtime` -> `Restart and run all`. And do not change the notebook's filename.** Do add comments to your code, you'll lose points if your code is hard to understand. Graphs without labels (or units when appropriate) are not worth any point.\n",
        "\n",
        "## Exercise 0\n",
        "[0] With some approximations, we have measured the mass of the following black-holes:\n",
        "```\n",
        "\"35.6+/-3.9\",\"30.6+/-3.7\",\"63.1+/-3.2\",\"23.2+/-9.8\",\"13.6+/-4.5\",\"35.7+/-6.8\",\"13.7+/-6.0\",\"7.7+/-2.4\",\"20.5+/-4.0\"\n",
        "```\n",
        "Compute for each (with error-bars) their lifetime due to Hawking radiation:\n",
        "$$\n",
        "t = \\left(\\frac{M}{M_{\\odot}}\\right)^3\\,\\times\\,2.097\\,\\times\\,10^{67} yr\n",
        "$$\n",
        "\n",
        "(this exercise is for demonstration purposes and won't be marked)"
      ]
    },
    {
      "cell_type": "code",
      "execution_count": null,
      "metadata": {
        "id": "Gfr_8YLI-Q5Z"
      },
      "outputs": [],
      "source": []
    },
    {
      "cell_type": "markdown",
      "metadata": {
        "id": "4_hr0ZI_-Q5Z"
      },
      "source": [
        "## Exercise 1\n",
        "[2] An object is measured to travel a distance $x = 5.1 \\pm 0.4 m$ during a time of $t = 0.4 \\pm 0.1 s$. What is the average velocity and the error in the average velocity?"
      ]
    },
    {
      "cell_type": "code",
      "execution_count": 2,
      "metadata": {
        "id": "ibWonh0a-Q5Z",
        "outputId": "5d1c7e3a-b73c-47d2-a990-489eefeb3883",
        "colab": {
          "base_uri": "https://localhost:8080/"
        }
      },
      "outputs": [
        {
          "output_type": "stream",
          "name": "stdout",
          "text": [
            "\u001b[?25l   \u001b[90m━━━━━━━━━━━━━━━━━━━━━━━━━━━━━━━━━━━━━━━━\u001b[0m \u001b[32m0.0/60.1 kB\u001b[0m \u001b[31m?\u001b[0m eta \u001b[36m-:--:--\u001b[0m\r\u001b[2K   \u001b[90m━━━━━━━━━━━━━━━━━━━━━━━━━━━━━━━━━━━━━━━━\u001b[0m \u001b[32m60.1/60.1 kB\u001b[0m \u001b[31m2.8 MB/s\u001b[0m eta \u001b[36m0:00:00\u001b[0m\n",
            "\u001b[?25hAverage Velocity and its error: 12.7+/-3.3 m/s\n"
          ]
        }
      ],
      "source": [
        "import numpy as np\n",
        "import matplotlib.pyplot as plt\n",
        "! pip install -q uncertainties\n",
        "import uncertainties as uc\n",
        "import uncertainties.umath as um # for maths functions\n",
        "\n",
        "x=uc.ufloat(5.1,0.4) #m #defining x value using uc.ufloat\n",
        "t=uc.ufloat(0.4,0.1) #s #defining t value using uc.ufloat\n",
        "avg_v=(x/t) #m/s #calculating velocity\n",
        "print('Average Velocity and its error:', avg_v, 'm/s')"
      ]
    },
    {
      "cell_type": "markdown",
      "metadata": {
        "id": "WiwSCXhL-Q5Z"
      },
      "source": [
        "## Exercise 2\n",
        "[2] An enterprising cow attempts to jump over the moon by jumping vertically into the air with initial speed $v_0=4.0\\pm0.2 m/s$. After a time $t=0.60\\pm0.06s$, the height of the cow is $h = v_0t-\\frac{1}{2}g t^2 = 0.636 m$. What is the uncertainty in $h$? Take $g$ as exactly $9.81 ms^{-2}$."
      ]
    },
    {
      "cell_type": "code",
      "execution_count": 56,
      "metadata": {
        "id": "JQVyw4Y6-Q5Z",
        "outputId": "911189fd-5e24-44bb-fc7c-6067837cc258",
        "colab": {
          "base_uri": "https://localhost:8080/"
        }
      },
      "outputs": [
        {
          "output_type": "stream",
          "name": "stdout",
          "text": [
            "Height of the cow and its uncertainty: 0.63+/-0.16 m\n"
          ]
        }
      ],
      "source": [
        "v0= uc.ufloat(4,0.2) #m/s  #defining v0 using uc.ufloat\n",
        "t=uc.ufloat(0.6,0.06) #s #defining v0 using uc.ufloat\n",
        "g=9.81  #taking it as exactly 9.81 means no error in g value ms^-2\n",
        "h=(v0*t)-(0.5*g*t**2) #calulating h\n",
        "print('Height of the cow and its uncertainty:', h, 'm')"
      ]
    },
    {
      "cell_type": "markdown",
      "metadata": {
        "id": "ZhoNBT8q-Q5Z"
      },
      "source": [
        "## Exercise 3\n",
        "[2] In an optics experiment the object distance $u$ is measured to be 20cm and the image distance $v$ is 10cm, both to an accuracy of 0.5cm. Find the focal length $f$ of the lens using the formula:\n",
        "\n",
        "$$ \\frac{1}{u}+\\frac{1}{v}=\\frac{1}{f}$$"
      ]
    },
    {
      "cell_type": "code",
      "execution_count": 55,
      "metadata": {
        "id": "WieHpcAr-Q5Z",
        "outputId": "f1af07f8-ebaa-4300-caea-a06150c706fe",
        "colab": {
          "base_uri": "https://localhost:8080/"
        }
      },
      "outputs": [
        {
          "output_type": "stream",
          "name": "stdout",
          "text": [
            "The focal point is: 0.0667+/-0.0023 m\n"
          ]
        }
      ],
      "source": [
        "u=uc.ufloat(0.2,0.005) #m #defining u using uc.ufloat and converting to SI\n",
        "v=uc.ufloat(0.1,0.005) #m #defining v using uc.ufloat\n",
        "f=((u*v)/(u+v)) #calculating f\n",
        "print('The focal point is:', f, 'm' ) #m"
      ]
    },
    {
      "cell_type": "markdown",
      "metadata": {
        "id": "--KLtoz7-Q5Z"
      },
      "source": [
        "## Exercise 4\n",
        "[2] Two students each measure the refractive index of water. Jack measures a value of $1.33 \\pm 0.03$ while Jill measures $1.28 \\pm 0.02$. Are these values in agreement? *You do have to think a bit about this one...*"
      ]
    },
    {
      "cell_type": "code",
      "execution_count": 50,
      "metadata": {
        "id": "EJZQgFQn-Q5Z",
        "outputId": "d44deeed-23fa-47d9-940e-d2dde34a3ba0",
        "colab": {
          "base_uri": "https://localhost:8080/"
        }
      },
      "outputs": [
        {
          "output_type": "stream",
          "name": "stdout",
          "text": [
            "0.05+/-0.04\n",
            "the difference between the refractive index of jack and jill is nearly the same as the uncertainty, therefore it is unlikely that they are in agreement\n"
          ]
        }
      ],
      "source": [
        "jack=uc.ufloat(1.33,0.03)\n",
        "jill=uc.ufloat(1.28,0.02)\n",
        "value= jack- jill #working out the difference between jack and jill and their uncertainties\n",
        "print(value)\n",
        "print('the difference between the refractive index of jack and jill is nearly the same as the uncertainty, therefore it is unlikely that they are in agreement')"
      ]
    },
    {
      "cell_type": "markdown",
      "metadata": {
        "id": "jWd3G_jl-Q5Z"
      },
      "source": [
        "## Exercise 5\n",
        "[2] The damped resonance frequency $\\omega_{res}$ of an oscillating system is related to the (un-damped) natural angular frequency $\\omega_0$ and the damping coefficient $\\alpha$ by:\n",
        "\n",
        "$$\\omega_{res} = \\sqrt{ \\omega_0^2 - 2\\alpha^2}$$\n",
        "\n",
        "Find $f_0$ if the measured resonance frequency $f_{res}$ is $23.2\\pm0.1 Hz$ and the measured damping coefficient is $19.5\\pm0.5s^{-1}$.\n"
      ]
    },
    {
      "cell_type": "code",
      "execution_count": 54,
      "metadata": {
        "id": "_9wcMpEc-Q5Z",
        "outputId": "a3e3dd0a-0aec-4163-8f03-409f5caade33",
        "colab": {
          "base_uri": "https://localhost:8080/"
        }
      },
      "outputs": [
        {
          "output_type": "stream",
          "name": "stdout",
          "text": [
            "The natural frequency is: 23.61+/-0.10 Hz\n"
          ]
        }
      ],
      "source": [
        "from math import pi\n",
        "res_f= uc.ufloat(23.2,0.1) #defining measured resonance frequency in Hz\n",
        "w_res=(2*pi*res_f) #converting to angular frquency in rad/s\n",
        "damp_coeff= uc.ufloat(19.5,0.5) #defining damping coefficient\n",
        "w_0=((w_res**2)+(2*damp_coeff**2))**0.5 #rearranging equation to find value of w0\n",
        "f_0= (w_0/(2*pi)) #converting back to find the undamped natural frequency\n",
        "print('The natural frequency is:' ,f_0, 'Hz')"
      ]
    },
    {
      "cell_type": "markdown",
      "metadata": {
        "id": "6zLuunt2-Q5Z"
      },
      "source": [
        "## Exercise 6\n",
        "[2] Suppose you have the following equation from one of your lab experiments:\n",
        "\n",
        "$$f=\\frac{c}{2}\\sqrt{\\frac{n_x^2}{L_x^2}+\\frac{n_y^2}{L_y^2}+\\frac{n_z^2}{L_z^2}}$$\n",
        "\n",
        "where $f$ is the resonant frequency of sound waves in a box of sides $L_x$, $L_y$ and $L_z$ in length and the $n_x$ etc. are integers. $L_x = 10.2\\pm0.2m$, $L_y = 5.2\\pm0.3m$ and $L_z = 20.0\\pm0.1 m$, while $c = 331.3 + T * 0.606 \\,m\\,s^{-1}$ is the temperature-dependent speed of sound, and the temperature $T$ is $23 \\pm 1^\\circ C$.\n",
        "Calculate $f$ and the error in $f$ for the following values of $(nx,ny,nz)= (1,1,1), (1,1,2)$ and $(2,1,1)$.\n"
      ]
    },
    {
      "cell_type": "code",
      "execution_count": 46,
      "metadata": {
        "id": "H9iRRq4q-Q5Z",
        "outputId": "7ee34309-3588-4ee8-e2cf-7f76bad79ff8",
        "colab": {
          "base_uri": "https://localhost:8080/"
        }
      },
      "outputs": [
        {
          "output_type": "stream",
          "name": "stdout",
          "text": [
            "The value of the resonant frequency for values (1,1,1) is: 38.2+/-1.7 Hz\n",
            "The value of the resonant frequency for values (1,1,2) is: 41.1+/-1.6 Hz\n",
            "The value of the resonant frequency for values (2,1,1) is: 48.2+/-1.4 Hz\n"
          ]
        }
      ],
      "source": [
        "L_x=uc.ufloat(10.2,0.2) #defining sides of box\n",
        "L_y=uc.ufloat(5.2,0.3)\n",
        "L_z=uc.ufloat(20,0.1)\n",
        "T=uc.ufloat(23,1)\n",
        "c=331.3+T*0.606 #defining c\n",
        "f_1=(c/2)*(((1**2)/(L_x**2))+((1**2)/(L_y**2))+((1**2)/(L_z**2)))**0.5 #inputting values of (1,1,1)\n",
        "print('The value of the resonant frequency for values (1,1,1) is:',f_1, 'Hz')\n",
        "f_2=(c/2)*(((1**2)/(L_x**2))+((1**2)/(L_y**2))+((2**2)/(L_z**2)))**0.5 #inputting values of (1,1,2)\n",
        "print('The value of the resonant frequency for values (1,1,2) is:', f_2, 'Hz')\n",
        "f_3=(c/2)*(((2**2)/(L_x**2))+((1**2)/(L_y**2))+((1**2)/(L_z**2)))**0.5 #inputting values of (2,1,1)\n",
        "print('The value of the resonant frequency for values (2,1,1) is:', f_3, 'Hz')"
      ]
    },
    {
      "cell_type": "markdown",
      "metadata": {
        "id": "Vw9fd38n-Q5Z"
      },
      "source": [
        "## Exercise 7\n",
        "[4] The reflection coefficient $R_\\parallel$ for parallel plane-polarised light reflected from a surface is given by the equation:\n",
        "\n",
        "$$ R_\\parallel = \\frac{\\tan^2(\\theta_i - \\theta_t)}{\\tan^2(\\theta_i + \\theta_t)} $$\n",
        "\n",
        "Calculate the error in $R_\\parallel$ given measurements $\\theta_i = (78 \\pm 1)^\\circ$ and $\\theta_t = (40 \\pm 1)^\\circ$."
      ]
    },
    {
      "cell_type": "code",
      "execution_count": 52,
      "metadata": {
        "id": "aNid8RDC-Q5Z",
        "outputId": "b80908f0-fcf7-45b6-9461-22c2678d2650",
        "colab": {
          "base_uri": "https://localhost:8080/"
        }
      },
      "outputs": [
        {
          "output_type": "stream",
          "name": "stdout",
          "text": [
            "The value of the reflection coefficient: 0.173+/-0.027\n"
          ]
        }
      ],
      "source": [
        "import uncertainties as uc\n",
        "import uncertainties.umath as um\n",
        "theta_i=uc.ufloat(78,1)\n",
        "i_conv= theta_i*(np.pi/180) #convert to radians\n",
        "theta_t=uc.ufloat(40,1)\n",
        "t_conv= theta_t*(np.pi/180)\n",
        "numerator=um.tan(i_conv-t_conv)**2\n",
        "denominator=um.tan(i_conv+t_conv)**2\n",
        "R=numerator/denominator\n",
        "\n",
        "print('The value of the reflection coefficient:' ,R)"
      ]
    },
    {
      "cell_type": "markdown",
      "metadata": {
        "id": "jvTI6ID1-Q5a"
      },
      "source": [
        "## Exercise 8\n",
        "[4] Calculate and print to the screen the fractional uncertainty, as a percentage to one\n",
        "significant figure, of the fluid flow discharge coefficient $C_d$ from the equation\n",
        "\n",
        "$$\n",
        "C_d = \\frac{\\dot{m}\\sqrt{1-\\left(\\frac{d}{D}\\right)^4}}{Kd^2F\\sqrt{\\rho\\Delta P}}\n",
        "$$\n",
        "\n",
        "where\n",
        "\n",
        "\\begin{align*}\n",
        "    C_d &= \\text{discharge coefficient}&& \\text{(no units)} \\\\\n",
        "    \\dot{m} &= \\text{mass flow rate}&& = 0.13 \\pm 0.01kg\\,s^{-1} \\\\\n",
        "    d &= \\text{orifice diameter}&& = 11\\pm 1 mm \\\\\n",
        "    D &= \\text{pipe diameter}&& = 71 \\pm 1 mm \\\\\n",
        "    \\rho &= \\text{fluid density}&& =1.01\\pm0.01g\\,cm^{-3} \\\\\n",
        "    \\Delta P &= \\text{differential pressure}&& =156 \\pm 7 Pa \\\\\n",
        "    K &= \\text{a constant parameter}&& =\\text{constant (no units)} \\\\\n",
        "    F &= \\text{thermal expansion factor}&& =\\text{constant (no units)}\n",
        "\\end{align*}\n"
      ]
    },
    {
      "cell_type": "code",
      "execution_count": 57,
      "metadata": {
        "id": "H79i9JE3-Q5a",
        "colab": {
          "base_uri": "https://localhost:8080/"
        },
        "outputId": "9271447c-308f-4353-b0f1-aded7a404349"
      },
      "outputs": [
        {
          "output_type": "stream",
          "name": "stdout",
          "text": [
            "The value of the fractional uncertainty is 20.0 %\n"
          ]
        }
      ],
      "source": [
        "m= uc.ufloat(0.13,0.01) #defining the equation\n",
        "d= uc.ufloat(0.011,0.001)\n",
        "D=uc.ufloat(0.071,0.001)\n",
        "rho= uc.ufloat(1010,10)\n",
        "delta_P=uc.ufloat(156,7)\n",
        "numerator= (m*((1-(d/D)**4)**0.5))\n",
        "denominator= ((d**2)*(rho*delta_P)**0.5)\n",
        "C_d=numerator/denominator\n",
        "uncertainty= C_d.std_dev #calculating the uncertainty\n",
        "mean= np.mean(C_d.nominal_value)\n",
        "fraction=100*(uncertainty/mean)\n",
        "value=float('%.1g'% fraction) #printing to 1 sig fig\n",
        "print(f'The value of the fractional uncertainty is', value, '%')\n"
      ]
    },
    {
      "cell_type": "markdown",
      "metadata": {
        "id": "eq7EvRYH-Q5a"
      },
      "source": [
        "## Exercise 9: Optional problem (not marked)\n",
        "If you have time and want to try something interesting, do the following problem by plotting in 2D:\n",
        " - Draw an equilateral triangle with vertices and coordinates: vertex 1: $(p_1,q_1)$; vertex 2: $(p_2, q_2)$; vertex 3: $(p_3, q_3)$.\n",
        " - Place a dot at an arbitrary point $P = (x_0, y_0)$ within this triangle.\n",
        " - Find the next point by selecting randomly an integer $n = 1 , 2, $  or $3$ :\n",
        "    1. If 1 , place a dot halfway between P and vertex 1.\n",
        "    2. If 2 , place a dot halfway between P and vertex 2.\n",
        "    3. If 3 , place a dot halfway between P and vertex 3.\n",
        " - Repeat the last two steps using the last dot as the new P.\n",
        "\n",
        "Mathematically, the coordinates of successive points are given by the formulae\n",
        "\n",
        "$$(x_{i+1},y_{i+1})=0.5[(x_i,y_i)+(p_n,q_n)]$$\n",
        "\n",
        "and\n",
        "\n",
        "$$n=int(1+3r_i),$$\n",
        "\n",
        "where $r_i$ is a random number between 0 and 1 and where the $int()$ function outputs the closest integer smaller than or equal to the argument.\n",
        "\n",
        "Try extending this to four vertices."
      ]
    },
    {
      "cell_type": "code",
      "execution_count": null,
      "metadata": {
        "id": "hkwCqN8p-Q5a"
      },
      "outputs": [],
      "source": []
    }
  ],
  "metadata": {
    "kernelspec": {
      "display_name": "Python 3",
      "language": "python",
      "name": "python3"
    },
    "language_info": {
      "codemirror_mode": {
        "name": "ipython",
        "version": 3
      },
      "file_extension": ".py",
      "mimetype": "text/x-python",
      "name": "python",
      "nbconvert_exporter": "python",
      "pygments_lexer": "ipython3",
      "version": "3.7.10"
    },
    "colab": {
      "provenance": []
    }
  },
  "nbformat": 4,
  "nbformat_minor": 0
}